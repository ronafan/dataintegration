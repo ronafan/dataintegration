{
 "cells": [
  {
   "cell_type": "code",
   "execution_count": 5,
   "metadata": {
    "collapsed": false
   },
   "outputs": [
    {
     "name": "stdout",
     "output_type": "stream",
     "text": [
      "Unsorted List: [54, 26, 93, 17, 77, 31, 44, 55, 20]\n",
      "Sorted List: [17, 20, 26, 31, 44, 54, 55, 77, 93]\n"
     ]
    }
   ],
   "source": [
    "\"\"\"\n",
    "Implementation of Bubble Sort Algorithm\n",
    "Author: Rona Fan\n",
    "\"\"\"\n",
    "\n",
    "def bubble_sort(lst):\n",
    "    '''\n",
    "    Sorts the list in ascending order using bubble sort algorithm.\n",
    "    '''\n",
    "    # Iterate len(lst)-1 times\n",
    "    for i in range(len(lst)-1,0,-1):\n",
    "        for j in range(i):\n",
    "            if lst[j]>lst[j+1]:\n",
    "                lst[j],lst[j+1] = lst[j+1],lst[j]\n",
    "        \n",
    "# Unsorted list of numbers\n",
    "lst = [54,26,93,17,77,31,44,55,20]\n",
    "print 'Unsorted List:', lst\n",
    "\n",
    "# Call bubble_sort for lst\n",
    "bubble_sort(lst)\n",
    "print 'Sorted List:',lst"
   ]
  }
 ],
 "metadata": {
  "anaconda-cloud": {},
  "kernelspec": {
   "display_name": "Python [conda root]",
   "language": "python",
   "name": "conda-root-py"
  },
  "language_info": {
   "codemirror_mode": {
    "name": "ipython",
    "version": 2
   },
   "file_extension": ".py",
   "mimetype": "text/x-python",
   "name": "python",
   "nbconvert_exporter": "python",
   "pygments_lexer": "ipython2",
   "version": "2.7.12"
  }
 },
 "nbformat": 4,
 "nbformat_minor": 1
}
