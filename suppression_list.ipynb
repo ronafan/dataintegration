{
 "cells": [
  {
   "cell_type": "code",
   "execution_count": 34,
   "metadata": {
    "collapsed": false
   },
   "outputs": [],
   "source": [
    "###############################################################################################################################\n",
    "###############################################################################################################################\n",
    "###############################################################################################################################\n",
    "###########   Step 1: This script will find all suppression emails and save as a new csv file on desktop    ###################\n",
    "###########                                                                          Author: Rona Fan       ###################\n",
    "###############################################################################################################################\n",
    "###############################################################################################################################\n",
    "###############################################################################################################################\n",
    "\n",
    "import pandas as pd\n",
    "import numpy as np\n",
    "import csv\n",
    "\n",
    "# parameters are two lists, one for leads, the other for suppression docs.\n",
    "# @return: matching values between two lists\n",
    "def match (a,b):\n",
    "    return set(a)&set(b)\n",
    "\n",
    "# loading all suppression lists; using ',' as delim; remove header; define dtype as series\n",
    "table1= pd.read_csv('081816-TriNet-Suppression-1.csv',sep=',',header=None, dtype = object)\n",
    "table2 = pd.read_csv('081816-TriNet-Suppression-2.csv', sep = ',', header = None, dtype = object)\n",
    "table3 = pd.read_csv('081816-TriNet-Suppression-3.csv', sep = ',', header = None, dtype = object)\n",
    "table4 = pd.read_csv('081816-TriNet-Suppression-4.csv', sep = ',', header = None, dtype = object)\n",
    "#loading leads \n",
    "lead = pd.read_csv('leads_1.csv', sep = ',', header = None, dtype = object)\n",
    "# concatinating and extracting emails\n",
    "suppression_email = pd.concat([table1, table2, table3, table4])[3]\n",
    "lead_email = lead[13]\n",
    "\n",
    "# finding matching emails and save to a new csv\n",
    "duplicates = match(lead_email, suppression_email)\n",
    "# print duplicates\n",
    "with open('sup_list.csv', 'w') as output:\n",
    "    writer = csv.writer(output, lineterminator = '\\n')\n",
    "    for val in duplicates:\n",
    "        writer.writerow([val])"
   ]
  }
 ],
 "metadata": {
  "anaconda-cloud": {},
  "kernelspec": {
   "display_name": "Python [conda root]",
   "language": "python",
   "name": "conda-root-py"
  },
  "language_info": {
   "codemirror_mode": {
    "name": "ipython",
    "version": 2
   },
   "file_extension": ".py",
   "mimetype": "text/x-python",
   "name": "python",
   "nbconvert_exporter": "python",
   "pygments_lexer": "ipython2",
   "version": "2.7.12"
  }
 },
 "nbformat": 4,
 "nbformat_minor": 1
}
