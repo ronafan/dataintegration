{
 "cells": [
  {
   "cell_type": "code",
   "execution_count": 2,
   "metadata": {
    "collapsed": false
   },
   "outputs": [
    {
     "name": "stdout",
     "output_type": "stream",
     "text": [
      "============ Invalid Emails ================\n",
      "kevin.m.freeman@aexp.com\n",
      "sharon.kehoe@treas.nj.us\n",
      "john.hammonds@saic.com\n",
      "billy_kelly@bmc.com\n",
      "eric.moore@hobbylobby.com\n",
      "pat.obrien@springswindowfashions.com\n",
      "jessicapomfret@westfieldgrp.com\n",
      "victoria.a.bendler@dupont.com\n",
      "sidney.dsouza@vwr.com\n",
      "============ # Before cleansing ============\n",
      "452\n",
      "============ # After cleansing =============\n",
      "9\n"
     ]
    }
   ],
   "source": [
    "###############################################################################################################################\n",
    "###############################################################################################################################\n",
    "###############################################################################################################################\n",
    "##############                Step 2: This script will find all invalid emails                            #####################\n",
    "##############                                                                       Author: Rona Fan     #####################\n",
    "###############################################################################################################################\n",
    "###############################################################################################################################\n",
    "###############################################################################################################################\n",
    "import pandas as pd\n",
    "import numpy as np\n",
    "import csv\n",
    "\n",
    "print \"============ Invalid Emails ================\"\n",
    "# Loading leads information\n",
    "# Define the 3rd column as first name\n",
    "# Define the 4th column as last name\n",
    "# Define the 13th column as email address\n",
    "# Extract the prefix of email address, using @ as prelim\n",
    "table1= pd.read_csv('leads1-sap.csv.csv',sep=',',header=None)\n",
    "first_name = table1[3]\n",
    "last_name = table1[4]\n",
    "email =  table1[13]\n",
    "email_prefix = email.str.split('@')\n",
    "count =0\n",
    "# Accessing every email address, exclude the valid combinations inside if conditions, and then print out emails failed to meet those combinations \n",
    "for i in range(0, email_prefix.size):\n",
    "    if (email_prefix[i][0].lower().find(first_name[i].lower()) != -1):\n",
    "        if ((email_prefix[i][0].lower() != first_name[i].lower() + last_name[i].lower()) #For a Lead named: John Dow, \n",
    "#                                                                                         the email address as: JohnDow@xxxx.xxx\n",
    "            & (email_prefix[i][0].lower() != last_name[i].lower() + first_name[i].lower()) # DowJohn\n",
    "            & (email_prefix[i][0].lower() != first_name[i].lower() + '_' + last_name[i].lower()) # John_Dow\n",
    "            & (email_prefix[i][0].lower() != first_name[i].lower() + '.' + last_name[i].lower()) # John.Dow\n",
    "            & (email_prefix[i][0].lower() != first_name[i].lower() + '-' + last_name[i].lower()) # John-Dow\n",
    "            & (email_prefix[i][0].lower() != last_name[i].lower() +'_' + first_name[i].lower()) # Dow_John\n",
    "            & (email_prefix[i][0].lower() != last_name[i].lower() + '.' + first_name[i].lower()) # Dow.John\n",
    "            & (email_prefix[i][0].lower() != last_name[i].lower() + '-' + first_name[i].lower()) # Dow-John\n",
    "            & (email_prefix[i][0].lower() != first_name[i].lower()) # John\n",
    "            & (email_prefix[i][0].lower() != last_name[i].lower()) # Dow\n",
    "            & (email_prefix[i][0].lower() != first_name[i][0].lower() + last_name[i][0].lower())# JD\n",
    "            & (email_prefix[i][0].lower() != last_name[i][0].lower() + first_name[i][0].lower())# DJ\n",
    "            & (email_prefix[i][0].lower() != first_name[i][0].lower() + '_' + last_name[i][0].lower()) # J_D\n",
    "            & (email_prefix[i][0].lower() != first_name[i][0].lower() + '.' + last_name[i][0].lower()) # J.D\n",
    "            & (email_prefix[i][0].lower() != first_name[i][0].lower() + '-' + last_name[i][0].lower()) # J-D\n",
    "            & (email_prefix[i][0].lower() != last_name[i][0].lower() + '_' + first_name[i][0].lower()) # D_J\n",
    "            & (email_prefix[i][0].lower() != last_name[i][0].lower() + '.' + first_name[i][0].lower()) # D.J\n",
    "            & (email_prefix[i][0].lower() != last_name[i][0].lower() + '-' + first_name[i][0].lower()) # D-J\n",
    "            & (email_prefix[i][0].lower() != first_name[i][0].lower() + last_name[i].lower()) # JDow\n",
    "            & (email_prefix[i][0].lower() != first_name[i][0].lower() + '_' + last_name[i].lower()) # J_Dow\n",
    "            & (email_prefix[i][0].lower() != first_name[i][0].lower() + '.' + last_name[i].lower()) # J.Dow\n",
    "            & (email_prefix[i][0].lower() != first_name[i][0].lower() + '-' + last_name[i].lower()) # J-Dow\n",
    "            & (email_prefix[i][0].lower() != first_name[i].lower() + last_name[i][0].lower()) # JohnD\n",
    "            & (email_prefix[i][0].lower() != first_name[i].lower() + '_' + last_name[i][0].lower()) # John_D\n",
    "            & (email_prefix[i][0].lower() != first_name[i].lower() + '.' + last_name[i][0].lower()) # John.D\n",
    "            & (email_prefix[i][0].lower() != first_name[i].lower() + '-' + last_name[i][0].lower()) # John-D\n",
    "            & (email_prefix[i][0].lower() != last_name[i][0].lower() + first_name[i].lower()) # DJohn\n",
    "            & (email_prefix[i][0].lower() != last_name[i][0].lower() + '_' + first_name[i].lower()) # D_John\n",
    "            & (email_prefix[i][0].lower() != last_name[i][0].lower() + '.' + first_name[i].lower()) # D.John\n",
    "            & (email_prefix[i][0].lower() != last_name[i][0].lower() + '-' + first_name[i].lower()) # D-John\n",
    "            & (email_prefix[i][0].lower() != last_name[i].lower() + first_name[i][0].lower()) # DowJ\n",
    "            & (email_prefix[i][0].lower() != last_name[i].lower() + '_' + first_name[i][0].lower()) # Dow_J\n",
    "            & (email_prefix[i][0].lower() != last_name[i].lower() + '.' + first_name[i][0].lower()) # Dow.J\n",
    "            & ((email_prefix[i][0].lower() != last_name[i].lower() + '-' + first_name[i][0].lower()))# Dow-J\n",
    "           ):\n",
    "            count += 1\n",
    "            print email[i]\n",
    "print \"============ # Before cleansing ============\"\n",
    "print len(email)\n",
    "print \"============ # After cleansing =============\"\n",
    "print count\n"
   ]
  },
  {
   "cell_type": "code",
   "execution_count": null,
   "metadata": {
    "collapsed": true
   },
   "outputs": [],
   "source": []
  }
 ],
 "metadata": {
  "anaconda-cloud": {},
  "kernelspec": {
   "display_name": "Python [conda root]",
   "language": "python",
   "name": "conda-root-py"
  },
  "language_info": {
   "codemirror_mode": {
    "name": "ipython",
    "version": 2
   },
   "file_extension": ".py",
   "mimetype": "text/x-python",
   "name": "python",
   "nbconvert_exporter": "python",
   "pygments_lexer": "ipython2",
   "version": "2.7.12"
  }
 },
 "nbformat": 4,
 "nbformat_minor": 1
}
